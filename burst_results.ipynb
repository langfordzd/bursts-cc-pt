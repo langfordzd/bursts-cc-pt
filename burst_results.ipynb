{
  "nbformat": 4,
  "nbformat_minor": 0,
  "metadata": {
    "colab": {
      "name": "burst_results.ipynb",
      "provenance": [],
      "authorship_tag": "ABX9TyNsZnRxPAKOvPgmUrdm0pAN",
      "include_colab_link": true
    },
    "kernelspec": {
      "name": "python3",
      "display_name": "Python 3"
    },
    "language_info": {
      "name": "python"
    }
  },
  "cells": [
    {
      "cell_type": "markdown",
      "metadata": {
        "id": "view-in-github",
        "colab_type": "text"
      },
      "source": [
        "<a href=\"https://colab.research.google.com/github/langfordzd/bursts-cc-pt/blob/main/burst_results.ipynb\" target=\"_parent\"><img src=\"https://colab.research.google.com/assets/colab-badge.svg\" alt=\"Open In Colab\"/></a>"
      ]
    },
    {
      "cell_type": "code",
      "execution_count": 1,
      "metadata": {
        "id": "tDXDR3fHbHyN",
        "colab": {
          "base_uri": "https://localhost:8080/"
        },
        "outputId": "931ea73d-09e0-43f3-b365-089973b0892e"
      },
      "outputs": [
        {
          "output_type": "stream",
          "name": "stdout",
          "text": [
            "  % Total    % Received % Xferd  Average Speed   Time    Time     Time  Current\n",
            "                                 Dload  Upload   Total   Spent    Left  Speed\n",
            "100   469  100   469    0     0   1606      0 --:--:-- --:--:-- --:--:--  1606\n",
            "100 49.2M  100 49.2M    0     0  9676k      0  0:00:05  0:00:05 --:--:-- 13.4M\n",
            "curl: Saved to filename 'coms.zip'\n"
          ]
        }
      ],
      "source": [
        "!curl -L -J -O 'https://osf.io/8z4kc/download'"
      ]
    },
    {
      "cell_type": "code",
      "source": [
        "!unzip coms.zip"
      ],
      "metadata": {
        "colab": {
          "base_uri": "https://localhost:8080/"
        },
        "id": "0zmPGlZXcBxe",
        "outputId": "a6e66c97-8043-478b-c3f4-039599929bbd"
      },
      "execution_count": 2,
      "outputs": [
        {
          "output_type": "stream",
          "name": "stdout",
          "text": [
            "Archive:  coms.zip\n",
            "  inflating: ecog_com.pkl            \n",
            "  inflating: lfp_com.pkl             \n",
            "  inflating: mouse_com.pkl           \n"
          ]
        }
      ]
    },
    {
      "cell_type": "code",
      "source": [
        "pwd()\n"
      ],
      "metadata": {
        "colab": {
          "base_uri": "https://localhost:8080/",
          "height": 35
        },
        "id": "NFiyBg79cFN6",
        "outputId": "08587a18-daf5-4161-bcdf-f2abf0947500"
      },
      "execution_count": 6,
      "outputs": [
        {
          "output_type": "execute_result",
          "data": {
            "text/plain": [
              "'/content'"
            ],
            "application/vnd.google.colaboratory.intrinsic+json": {
              "type": "string"
            }
          },
          "metadata": {},
          "execution_count": 6
        }
      ]
    },
    {
      "cell_type": "code",
      "source": [
        ""
      ],
      "metadata": {
        "id": "mlNTVPAOdWCH"
      },
      "execution_count": null,
      "outputs": []
    }
  ]
}