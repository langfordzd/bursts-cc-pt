{
  "nbformat": 4,
  "nbformat_minor": 0,
  "metadata": {
    "colab": {
      "name": "parameter_picks.ipynb",
      "provenance": [],
      "collapsed_sections": [],
      "history_visible": true,
      "authorship_tag": "ABX9TyPdNpzbg5TfAuDzeDdnl+ZF",
      "include_colab_link": true
    },
    "kernelspec": {
      "name": "python3",
      "display_name": "Python 3"
    },
    "language_info": {
      "name": "python"
    }
  },
  "cells": [
    {
      "cell_type": "markdown",
      "metadata": {
        "id": "view-in-github",
        "colab_type": "text"
      },
      "source": [
        "<a href=\"https://colab.research.google.com/github/langfordzd/bursts-cc-pt/blob/main/parameter_picks.ipynb\" target=\"_parent\"><img src=\"https://colab.research.google.com/assets/colab-badge.svg\" alt=\"Open In Colab\"/></a>"
      ]
    },
    {
      "cell_type": "markdown",
      "source": [
        "# First we need to install and import a few things\n",
        "\n"
      ],
      "metadata": {
        "id": "ZkbfihIwExp8"
      }
    },
    {
      "cell_type": "code",
      "source": [
        "!pip install neurodsp\n",
        "!pip install bycycle"
      ],
      "metadata": {
        "colab": {
          "base_uri": "https://localhost:8080/"
        },
        "id": "kKyO1oVjEjY0",
        "outputId": "ca85000d-72a6-4315-8f02-c3d26c3b1c2f"
      },
      "execution_count": 3,
      "outputs": [
        {
          "output_type": "stream",
          "name": "stdout",
          "text": [
            "Looking in indexes: https://pypi.org/simple, https://us-python.pkg.dev/colab-wheels/public/simple/\n",
            "Requirement already satisfied: neurodsp in /usr/local/lib/python3.7/dist-packages (2.1.0)\n",
            "Requirement already satisfied: numpy in /usr/local/lib/python3.7/dist-packages (from neurodsp) (1.21.6)\n",
            "Requirement already satisfied: scipy in /usr/local/lib/python3.7/dist-packages (from neurodsp) (1.4.1)\n",
            "Requirement already satisfied: matplotlib in /usr/local/lib/python3.7/dist-packages (from neurodsp) (3.2.2)\n",
            "Requirement already satisfied: pyparsing!=2.0.4,!=2.1.2,!=2.1.6,>=2.0.1 in /usr/local/lib/python3.7/dist-packages (from matplotlib->neurodsp) (3.0.9)\n",
            "Requirement already satisfied: python-dateutil>=2.1 in /usr/local/lib/python3.7/dist-packages (from matplotlib->neurodsp) (2.8.2)\n",
            "Requirement already satisfied: cycler>=0.10 in /usr/local/lib/python3.7/dist-packages (from matplotlib->neurodsp) (0.11.0)\n",
            "Requirement already satisfied: kiwisolver>=1.0.1 in /usr/local/lib/python3.7/dist-packages (from matplotlib->neurodsp) (1.4.2)\n",
            "Requirement already satisfied: typing-extensions in /usr/local/lib/python3.7/dist-packages (from kiwisolver>=1.0.1->matplotlib->neurodsp) (4.2.0)\n",
            "Requirement already satisfied: six>=1.5 in /usr/local/lib/python3.7/dist-packages (from python-dateutil>=2.1->matplotlib->neurodsp) (1.15.0)\n",
            "Looking in indexes: https://pypi.org/simple, https://us-python.pkg.dev/colab-wheels/public/simple/\n",
            "Requirement already satisfied: bycycle in /usr/local/lib/python3.7/dist-packages (1.0.0)\n",
            "Requirement already satisfied: numpy>=1.18.5 in /usr/local/lib/python3.7/dist-packages (from bycycle) (1.21.6)\n",
            "Requirement already satisfied: matplotlib>=3.0.3 in /usr/local/lib/python3.7/dist-packages (from bycycle) (3.2.2)\n",
            "Requirement already satisfied: scipy>=1.4.1 in /usr/local/lib/python3.7/dist-packages (from bycycle) (1.4.1)\n",
            "Requirement already satisfied: pandas>=0.25.3 in /usr/local/lib/python3.7/dist-packages (from bycycle) (1.3.5)\n",
            "Requirement already satisfied: neurodsp>=2.1.0 in /usr/local/lib/python3.7/dist-packages (from bycycle) (2.1.0)\n",
            "Requirement already satisfied: python-dateutil>=2.1 in /usr/local/lib/python3.7/dist-packages (from matplotlib>=3.0.3->bycycle) (2.8.2)\n",
            "Requirement already satisfied: pyparsing!=2.0.4,!=2.1.2,!=2.1.6,>=2.0.1 in /usr/local/lib/python3.7/dist-packages (from matplotlib>=3.0.3->bycycle) (3.0.9)\n",
            "Requirement already satisfied: cycler>=0.10 in /usr/local/lib/python3.7/dist-packages (from matplotlib>=3.0.3->bycycle) (0.11.0)\n",
            "Requirement already satisfied: kiwisolver>=1.0.1 in /usr/local/lib/python3.7/dist-packages (from matplotlib>=3.0.3->bycycle) (1.4.2)\n",
            "Requirement already satisfied: typing-extensions in /usr/local/lib/python3.7/dist-packages (from kiwisolver>=1.0.1->matplotlib>=3.0.3->bycycle) (4.2.0)\n",
            "Requirement already satisfied: pytz>=2017.3 in /usr/local/lib/python3.7/dist-packages (from pandas>=0.25.3->bycycle) (2022.1)\n",
            "Requirement already satisfied: six>=1.5 in /usr/local/lib/python3.7/dist-packages (from python-dateutil>=2.1->matplotlib>=3.0.3->bycycle) (1.15.0)\n"
          ]
        }
      ]
    },
    {
      "cell_type": "code",
      "execution_count": 4,
      "metadata": {
        "id": "gGj1rajXD_Of"
      },
      "outputs": [],
      "source": [
        "import matplotlib.pyplot as plt\n",
        "import numpy as np\n",
        "from bycycle.features import compute_features\n",
        "from neurodsp.sim import sim_powerlaw\n",
        "from neurodsp.utils import set_random_seed\n",
        "import itertools\n",
        "from multiprocessing import Pool, cpu_count      \n",
        "import pandas as pd\n",
        "import seaborn as sns"
      ]
    },
    {
      "cell_type": "code",
      "source": [
        "def f_cf(signal,thresh):\n",
        "    \n",
        "    threshold_kwargs = {'amp_fraction_threshold': 0.0, \n",
        "                   'amp_consistency_threshold': thresh[0],\n",
        "                   'period_consistency_threshold': thresh[1],\n",
        "                   'monotonicity_threshold': thresh[2],\n",
        "                   'min_n_cycles': thresh[3]}\n",
        "    \n",
        "    sf = compute_features(signal[1], s_rate, \n",
        "                              (15,29), threshold_kwargs=threshold_kwargs,\n",
        "                              return_samples=True)\n",
        "    count = 0\n",
        "    bursts = sf[sf['is_burst']]         \n",
        "    if any(bursts['is_burst']):\n",
        "        burst_list = np.split(bursts, np.flatnonzero(np.diff(bursts.index) != 1) + 1)\n",
        "        count = len(burst_list)\n",
        "        \n",
        "    return count"
      ],
      "metadata": {
        "id": "MKg5uicbFEib"
      },
      "execution_count": 6,
      "outputs": []
    },
    {
      "cell_type": "code",
      "source": [
        "#%%\n",
        "set_random_seed(1)\n",
        "n_noises = 1000\n",
        "secs = 1\n",
        "s_rate = 250\n",
        "threshs = np.around(np.arange(0.2,0.8+0.1,0.2),3).tolist()\n",
        "wte = list(itertools.product(threshs, repeat= 3))   \n",
        "wte2 = [e + tuple([2]) for e in wte]\n",
        "wte3 = [e + tuple([3]) for e in wte]\n",
        "wte = wte2+wte3\n",
        "signals = [(i,sim_powerlaw(secs, s_rate, exponent=-2)) for i in range(0,n_noises)]\n",
        "sig_eval_product = list(itertools.product(signals, wte))\n",
        "num_cores = cpu_count()\n",
        "pool = Pool(processes=num_cores)\n",
        "result =  pool.starmap(f_cf, sig_eval_product)\n",
        "pool.close()\n",
        "pool.join()  "
      ],
      "metadata": {
        "id": "vCEHfgrKFWPv"
      },
      "execution_count": null,
      "outputs": []
    },
    {
      "cell_type": "code",
      "source": [
        "wte_map = [x[1] for x in sig_eval_product]\n",
        "num_map = [x[0][0] for x in sig_eval_product]\n",
        "answer = [tuple([b])+e for b,e in zip(result,wte_map)]\n",
        "t = pd.DataFrame(answer,columns=['count', 'ac', 'pc', 'mt','cys'])\n",
        "t['noise'] = num_map\n",
        "rands = 1000 #times to randomize\n",
        "exp_size = 100 #trials\n",
        "ss = []\n",
        "import random\n",
        "for _ in range(rands):\n",
        "    rs = random.sample(range(0, n_noises), exp_size)\n",
        "    selec = t.loc[t['noise'].isin(rs)]\n",
        "    ss_ = pd.DataFrame(selec.groupby(['ac', 'pc', 'mt','cys'],as_index=False)['count'].mean())\n",
        "    ss.append(ss_)\n",
        "\n",
        "t = pd.concat(ss)\n",
        "a = pd.DataFrame(t.groupby(['ac', 'pc', 'mt','cys'],as_index=False)['count'].mean())\n",
        "sns.pairplot(a, y_vars=\"count\", x_vars=a.columns.values)"
      ],
      "metadata": {
        "colab": {
          "base_uri": "https://localhost:8080/",
          "height": 231
        },
        "id": "jDUX9lpoGCfJ",
        "outputId": "bce01eab-2e22-49eb-875e-7d45efd4b6c4"
      },
      "execution_count": 9,
      "outputs": [
        {
          "output_type": "error",
          "ename": "NameError",
          "evalue": "ignored",
          "traceback": [
            "\u001b[0;31m---------------------------------------------------------------------------\u001b[0m",
            "\u001b[0;31mNameError\u001b[0m                                 Traceback (most recent call last)",
            "\u001b[0;32m<ipython-input-9-8e90c2f89958>\u001b[0m in \u001b[0;36m<module>\u001b[0;34m()\u001b[0m\n\u001b[1;32m      9\u001b[0m \u001b[0;32mimport\u001b[0m \u001b[0mrandom\u001b[0m\u001b[0;34m\u001b[0m\u001b[0;34m\u001b[0m\u001b[0m\n\u001b[1;32m     10\u001b[0m \u001b[0;32mfor\u001b[0m \u001b[0m_\u001b[0m \u001b[0;32min\u001b[0m \u001b[0mrange\u001b[0m\u001b[0;34m(\u001b[0m\u001b[0mrands\u001b[0m\u001b[0;34m)\u001b[0m\u001b[0;34m:\u001b[0m\u001b[0;34m\u001b[0m\u001b[0;34m\u001b[0m\u001b[0m\n\u001b[0;32m---> 11\u001b[0;31m     \u001b[0mrs\u001b[0m \u001b[0;34m=\u001b[0m \u001b[0mrandom\u001b[0m\u001b[0;34m.\u001b[0m\u001b[0msample\u001b[0m\u001b[0;34m(\u001b[0m\u001b[0mrange\u001b[0m\u001b[0;34m(\u001b[0m\u001b[0;36m0\u001b[0m\u001b[0;34m,\u001b[0m \u001b[0mn_noises\u001b[0m\u001b[0;34m)\u001b[0m\u001b[0;34m,\u001b[0m \u001b[0mexp_size\u001b[0m\u001b[0;34m)\u001b[0m\u001b[0;34m\u001b[0m\u001b[0;34m\u001b[0m\u001b[0m\n\u001b[0m\u001b[1;32m     12\u001b[0m     \u001b[0mselec\u001b[0m \u001b[0;34m=\u001b[0m \u001b[0mt\u001b[0m\u001b[0;34m.\u001b[0m\u001b[0mloc\u001b[0m\u001b[0;34m[\u001b[0m\u001b[0mt\u001b[0m\u001b[0;34m[\u001b[0m\u001b[0;34m'noise'\u001b[0m\u001b[0;34m]\u001b[0m\u001b[0;34m.\u001b[0m\u001b[0misin\u001b[0m\u001b[0;34m(\u001b[0m\u001b[0mrs\u001b[0m\u001b[0;34m)\u001b[0m\u001b[0;34m]\u001b[0m\u001b[0;34m\u001b[0m\u001b[0;34m\u001b[0m\u001b[0m\n\u001b[1;32m     13\u001b[0m     \u001b[0mss_\u001b[0m \u001b[0;34m=\u001b[0m \u001b[0mpd\u001b[0m\u001b[0;34m.\u001b[0m\u001b[0mDataFrame\u001b[0m\u001b[0;34m(\u001b[0m\u001b[0mselec\u001b[0m\u001b[0;34m.\u001b[0m\u001b[0mgroupby\u001b[0m\u001b[0;34m(\u001b[0m\u001b[0;34m[\u001b[0m\u001b[0;34m'ac'\u001b[0m\u001b[0;34m,\u001b[0m \u001b[0;34m'pc'\u001b[0m\u001b[0;34m,\u001b[0m \u001b[0;34m'mt'\u001b[0m\u001b[0;34m,\u001b[0m\u001b[0;34m'cys'\u001b[0m\u001b[0;34m]\u001b[0m\u001b[0;34m,\u001b[0m\u001b[0mas_index\u001b[0m\u001b[0;34m=\u001b[0m\u001b[0;32mFalse\u001b[0m\u001b[0;34m)\u001b[0m\u001b[0;34m[\u001b[0m\u001b[0;34m'count'\u001b[0m\u001b[0;34m]\u001b[0m\u001b[0;34m.\u001b[0m\u001b[0mmean\u001b[0m\u001b[0;34m(\u001b[0m\u001b[0;34m)\u001b[0m\u001b[0;34m)\u001b[0m\u001b[0;34m\u001b[0m\u001b[0;34m\u001b[0m\u001b[0m\n",
            "\u001b[0;31mNameError\u001b[0m: name 'n_noises' is not defined"
          ]
        }
      ]
    },
    {
      "cell_type": "code",
      "source": [
        "\n",
        "fig = plt.figure()\n",
        "ax = fig.add_subplot(111, projection='3d')\n",
        "sc = ax.scatter(a.ac, a.pc, a.mt, s=500, c=np.array(a['count']), cmap='cividis',marker='o',alpha=0.5)\n",
        "ax.invert_yaxis()\n",
        "\n",
        "ax.set_xlabel('ac')\n",
        "ax.set_ylabel('pc')\n",
        "ax.set_zlabel('mt')"
      ],
      "metadata": {
        "id": "NeJ6qayeJ4m4"
      },
      "execution_count": null,
      "outputs": []
    }
  ]
}